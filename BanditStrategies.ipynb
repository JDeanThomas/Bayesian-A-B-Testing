{
 "cells": [
  {
   "cell_type": "markdown",
   "metadata": {},
   "source": [
    "## Bandit Strategies"
   ]
  },
  {
   "cell_type": "code",
   "execution_count": null,
   "metadata": {},
   "outputs": [],
   "source": [
    "import scipy.stats as stats\n",
    "import numpy as np\n",
    "\n",
    "rand = np.random.rand\n",
    "beta = stats.beta"
   ]
  },
  {
   "cell_type": "code",
   "execution_count": null,
   "metadata": {},
   "outputs": [],
   "source": [
    "# Chose \n",
    "def BayesianBandit(self):\n",
    "    return np.argmax(np.random.beta(1 + self.wins, 1 + self.trials - self.wins))\n",
    "\n",
    "# Chose bandit with the best UPPER BOUND\n",
    "def upperCredible(self):\n",
    "    def ub(a, b):\n",
    "        return a / (a + b) + 1.65 * np.sqrt((a * b) / ((a + b) ** 2 * (a + b + 1)))\n",
    "    a = self.wins + 1\n",
    "    b = self.trials - self.wins + 1\n",
    "    return np.argmax(ub(a, b))\n",
    "\n",
    "# Chose bandit with the best LOWER BOUND\n",
    "def lowerCredible( self ):\n",
    "    def lb(a, b):\n",
    "        return a / (a + b) - 1.65 * np.sqrt((a * b) / ((a + b) ** 2 * (a + b + 1)))\n",
    "    a = self.wins + 1\n",
    "    b = self.trials - self.wins + 1\n",
    "    return np.argmax(lb(a,b))\n",
    "        \n",
    "# Chose bandit with the largest score (dynamic quantile of the posterior )   \n",
    "def BayesUCB(self):\n",
    "    C = 0\n",
    "    n = 10000\n",
    "    alpha = 1 - 1. / ((self.N + 1))\n",
    "    return np.argmax(beta.ppf(alpha,\n",
    "                              1 + self.wins, \n",
    "                              1 + self.trials - self.wins))\n",
    "\n",
    "# Choose the bandit with the largest posterior mean.\n",
    "def maxMean(self):\n",
    "    return np.argmax(self.wins / (self.trials + 1))\n",
    "\n",
    "# Chose bandit randomly each round\n",
    "def random(self):\n",
    "    return np.random.randint(0, len(self.wins))"
   ]
  }
 ],
 "metadata": {
  "kernelspec": {
   "display_name": "Python 3",
   "language": "python",
   "name": "python3"
  },
  "language_info": {
   "codemirror_mode": {
    "name": "ipython",
    "version": 3
   },
   "file_extension": ".py",
   "mimetype": "text/x-python",
   "name": "python",
   "nbconvert_exporter": "python",
   "pygments_lexer": "ipython3",
   "version": "3.6.4"
  }
 },
 "nbformat": 4,
 "nbformat_minor": 2
}
